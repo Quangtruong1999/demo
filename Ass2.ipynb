{
  "nbformat": 4,
  "nbformat_minor": 0,
  "metadata": {
    "colab": {
      "name": "Ass2.ipynb",
      "provenance": [],
      "collapsed_sections": []
    },
    "kernelspec": {
      "name": "python2",
      "display_name": "Python 2"
    }
  },
  "cells": [
    {
      "cell_type": "code",
      "metadata": {
        "id": "k-qHai2252mI",
        "colab_type": "code",
        "outputId": "528a29d2-6622-4a23-95a8-e479601c3882",
        "colab": {
          "base_uri": "https://localhost:8080/",
          "height": 86
        }
      },
      "source": [
        "!pip install pyspark\n",
        "!pip install -U -q PyDrive\n",
        "!apt install openjdk-8-jdk-headless -qq\n",
        "import os\n",
        "os.environ[\"JAVA_HOME\"] = \"/usr/lib/jvm/java-8-openjdk-amd64\""
      ],
      "execution_count": 95,
      "outputs": [
        {
          "output_type": "stream",
          "text": [
            "Requirement already satisfied: pyspark in /usr/local/lib/python2.7/dist-packages (2.4.5)\n",
            "Requirement already satisfied: py4j==0.10.7 in /usr/local/lib/python2.7/dist-packages (from pyspark) (0.10.7)\n",
            "openjdk-8-jdk-headless is already the newest version (8u242-b08-0ubuntu3~18.04).\n",
            "0 upgraded, 0 newly installed, 0 to remove and 25 not upgraded.\n"
          ],
          "name": "stdout"
        }
      ]
    },
    {
      "cell_type": "code",
      "metadata": {
        "id": "5K93ABEy9Zlo",
        "colab_type": "code",
        "colab": {}
      },
      "source": [
        "from pydrive.auth import GoogleAuth\n",
        "from pydrive.drive import GoogleDrive\n",
        "from google.colab import auth\n",
        "from oauth2client.client import GoogleCredentials\n",
        "\n",
        "# Authenticate and create the PyDrive client\n",
        "auth.authenticate_user()\n",
        "gauth = GoogleAuth()\n",
        "gauth.credentials = GoogleCredentials.get_application_default()\n",
        "drive = GoogleDrive(gauth)"
      ],
      "execution_count": 0,
      "outputs": []
    },
    {
      "cell_type": "code",
      "metadata": {
        "id": "Dz7NEkUznxT6",
        "colab_type": "code",
        "outputId": "ad2a95ed-adef-43c9-ce8a-f0c63bebaea9",
        "colab": {
          "base_uri": "https://localhost:8080/",
          "height": 34
        }
      },
      "source": [
        "from google.colab import drive\n",
        "drive.mount('/content/drive')"
      ],
      "execution_count": 98,
      "outputs": [
        {
          "output_type": "stream",
          "text": [
            "Drive already mounted at /content/drive; to attempt to forcibly remount, call drive.mount(\"/content/drive\", force_remount=True).\n"
          ],
          "name": "stdout"
        }
      ]
    },
    {
      "cell_type": "code",
      "metadata": {
        "id": "FQOV91BQ8rlE",
        "colab_type": "code",
        "outputId": "b36d9108-a917-4bb2-8ab4-d037ebbc6f08",
        "colab": {
          "base_uri": "https://localhost:8080/",
          "height": 34
        }
      },
      "source": [
        "%cd '/content/drive/My Drive/XLDLL/Assignment2_Ex'"
      ],
      "execution_count": 0,
      "outputs": [
        {
          "output_type": "stream",
          "text": [
            "/content/drive/My Drive/XLDLL/Assignment2_Ex\n"
          ],
          "name": "stdout"
        }
      ]
    },
    {
      "cell_type": "code",
      "metadata": {
        "id": "xu-e7Ph2_ruG",
        "colab_type": "code",
        "colab": {}
      },
      "source": [
        "from pyspark.sql import *\n",
        "from pyspark.sql.functions import *\n",
        "from pyspark import SparkContext\n",
        "import pandas as pd\n",
        "\n",
        "# create the Spark Session\n",
        "spark = SparkSession.builder.getOrCreate()\n",
        "\n",
        "# create the Spark Context\n",
        "sc = spark.sparkContext"
      ],
      "execution_count": 0,
      "outputs": []
    },
    {
      "cell_type": "code",
      "metadata": {
        "id": "D5Rv9dqgJXDc",
        "colab_type": "code",
        "colab": {}
      },
      "source": [
        "def recList(pair):\n",
        "\tperson = pair[0]\n",
        "\tcntfList = pair[1]\n",
        "\tcntfLen = len(cntfList)\n",
        "\trlist = []\n",
        "\tfor i in range(cntfLen):\n",
        "\t\tfor j in range(len(cntfList[i][1])):\n",
        "\t\t\trlist.append(cntfList[i][1][j])\n",
        "\treturn (person, rlist)"
      ],
      "execution_count": 0,
      "outputs": []
    },
    {
      "cell_type": "code",
      "metadata": {
        "id": "dtIxM3RBugiz",
        "colab_type": "code",
        "colab": {}
      },
      "source": [
        "def friend_pairs_of_user(user_friendslist): #bat tung cap 1\n",
        "\tfrom_user = user_friendslist[0]\n",
        "\tfriendLst = user_friendslist[1]\n",
        "\treturn [(pair_of_usersFriend, 1) for pair_of_usersFriend in it.combinations(friendLst, 2)] #tra ve tung cap to hop 1 trong friendList"
      ],
      "execution_count": 0,
      "outputs": []
    },
    {
      "cell_type": "code",
      "metadata": {
        "id": "DeKwTKWPukID",
        "colab_type": "code",
        "colab": {}
      },
      "source": [
        "def mergeByShareCnt(x, y):\n",
        "\tfor i in y:\n",
        "\t\tif i in x:\n",
        "\t\t\tx[i] += y[i]\n",
        "\t\telse:\n",
        "\t\t\tx[i] = y[i]\n",
        "\treturn x\n",
        "  "
      ],
      "execution_count": 0,
      "outputs": []
    },
    {
      "cell_type": "code",
      "metadata": {
        "id": "vmTEWkfcumeO",
        "colab_type": "code",
        "colab": {}
      },
      "source": [
        "def sortRecommendsByCnt(recommendTuple):\n",
        "\trlist = []\n",
        "\trdict = recommendTuple[1]\n",
        "\tckeys = sorted(rdict, reverse=True)\n",
        "\tfor cnt in ckeys:\n",
        "\t    rlist.append((cnt, sorted(rdict[cnt])))\n",
        "\treturn (recommendTuple[0], rlist)\n",
        "\n"
      ],
      "execution_count": 0,
      "outputs": []
    },
    {
      "cell_type": "code",
      "metadata": {
        "id": "0D4MAgWpn7Vg",
        "colab_type": "code",
        "colab": {}
      },
      "source": [
        "import re\n",
        "import sys\n",
        "import itertools as it\n",
        "from pyspark import SparkConf, SparkContext\n",
        "\n",
        "\n",
        "friendLines = sc.textFile('/content/drive/My Drive/XLDLL/Assignment2_Ex/soc-LiveJournal1Adj.txt')\n",
        "\n",
        "\n",
        "\n"
      ],
      "execution_count": 0,
      "outputs": []
    },
    {
      "cell_type": "code",
      "metadata": {
        "id": "hTbkutxnsDG_",
        "colab_type": "code",
        "colab": {}
      },
      "source": [
        "user_friends = friendLines.map(lambda l: l.split())\n",
        "\n",
        "user  = user_friends.map(lambda x: x[0])  #cat cac user ra\n",
        "\n",
        "Users = user.collect() #map lai thanh 1 list\n",
        "Users = map(int, Users) #convert qua list ->list tat ca Users\n"
      ],
      "execution_count": 0,
      "outputs": []
    },
    {
      "cell_type": "code",
      "metadata": {
        "id": "0zsYSLo-sDZi",
        "colab_type": "code",
        "colab": {}
      },
      "source": [
        "user_w_friends = user_friends.filter(lambda e: len(e) == 2) #loc ra nhung user khong co tren 2 nguoi ban\n",
        "user_friendList = user_w_friends.map(lambda p: (int(p[0]), map(int, sorted(p[1].split(','))))) #Map tung user voi friend va sap xep mang friend de cac buoc sau ghep cap lai\n",
        "user_friendList.take(1)"
      ],
      "execution_count": 0,
      "outputs": []
    },
    {
      "cell_type": "code",
      "metadata": {
        "id": "HtLRHsj0sDbS",
        "colab_type": "code",
        "colab": {}
      },
      "source": [
        "pairs_from_commonFriend = user_friendList.map(friend_pairs_of_user).flatMap(lambda x: x)  # EX: [[(1,10),1...][(2,1),1]] - >[((1,10),1),((2,1),1)]\n",
        "pairs_from_commonFriend.take(1000)"
      ],
      "execution_count": 0,
      "outputs": []
    },
    {
      "cell_type": "code",
      "metadata": {
        "id": "4ev79Qs6yA8K",
        "colab_type": "code",
        "outputId": "6cc2103d-6c46-4fb2-efa5-8a6e6ff7fdfe",
        "colab": {
          "base_uri": "https://localhost:8080/",
          "height": 104
        }
      },
      "source": [
        "pairs_CntOf_commonFriends = pairs_from_commonFriend.reduceByKey(lambda c1, c2: c1 + c2) # cộng gộp các cặp giá trị lại với nhau\n",
        "pairs_CntOf_commonFriends.take(5)"
      ],
      "execution_count": 0,
      "outputs": [
        {
          "output_type": "execute_result",
          "data": {
            "text/plain": [
              "[((11577, 19689), 2),\n",
              " ((41739, 4875), 1),\n",
              " ((7269, 8749), 1),\n",
              " ((41106, 45594), 2),\n",
              " ((46668, 46724), 21)]"
            ]
          },
          "metadata": {
            "tags": []
          },
          "execution_count": 64
        }
      ]
    },
    {
      "cell_type": "code",
      "metadata": {
        "id": "K8lCxGq1yt78",
        "colab_type": "code",
        "colab": {}
      },
      "source": [
        "user2friendsMap = user_friendList.collectAsMap() #collect nhu 1 dictionary\n",
        "user2friendsMap[0]"
      ],
      "execution_count": 0,
      "outputs": []
    },
    {
      "cell_type": "code",
      "metadata": {
        "id": "EBcVJv-4y0p4",
        "colab_type": "code",
        "outputId": "5d0d5c29-5805-4126-8774-46915ffba9d9",
        "colab": {
          "base_uri": "https://localhost:8080/",
          "height": 104
        }
      },
      "source": [
        "pairs_hasCommon_yetFriends = pairs_CntOf_commonFriends.filter(lambda pC: pC[0][1] not in user2friendsMap[pC[0][0]])   # tra ve danh sach cac cap co ban chung nhung chua ket ban\n",
        "pairs_hasCommon_yetFriends.take(5)"
      ],
      "execution_count": 0,
      "outputs": [
        {
          "output_type": "execute_result",
          "data": {
            "text/plain": [
              "[((14207, 23531), 2),\n",
              " ((24202, 6142), 1),\n",
              " ((27680, 29508), 2),\n",
              " ((31783, 31811), 1),\n",
              " ((1445, 39473), 2)]"
            ]
          },
          "metadata": {
            "tags": []
          },
          "execution_count": 69
        }
      ]
    },
    {
      "cell_type": "code",
      "metadata": {
        "id": "1yY0BWUKy3Jl",
        "colab_type": "code",
        "outputId": "c0a806bd-2345-4edc-a53a-2ffc270ce2a9",
        "colab": {
          "base_uri": "https://localhost:8080/",
          "height": 104
        }
      },
      "source": [
        "user_recommendList_byShareCnt = pairs_hasCommon_yetFriends.map(lambda pC: [(pC[0][0], {pC[1]: [pC[0][1]]}), (pC[0][1], {pC[1]: [pC[0][0]]})]).flatMap(lambda x: x) #tach ra theo key\n",
        "user_recommendList_byShareCnt.take(5)"
      ],
      "execution_count": 0,
      "outputs": [
        {
          "output_type": "execute_result",
          "data": {
            "text/plain": [
              "[(49405, {1: [615]}),\n",
              " (615, {1: [49405]}),\n",
              " (10759, {1: [41775]}),\n",
              " (41775, {1: [10759]}),\n",
              " (17999, {3: [24345]})]"
            ]
          },
          "metadata": {
            "tags": []
          },
          "execution_count": 72
        }
      ]
    },
    {
      "cell_type": "code",
      "metadata": {
        "id": "8XXY1kVjy5bW",
        "colab_type": "code",
        "colab": {}
      },
      "source": [
        "recommendList_byShareCnt = user_recommendList_byShareCnt.reduceByKey(mergeByShareCnt) # link cac gap key thanh list dai` co lien ket voi nhau de recommend\n",
        "recommendList_byShareCnt.take(5)"
      ],
      "execution_count": 0,
      "outputs": []
    },
    {
      "cell_type": "code",
      "metadata": {
        "id": "o53p6jX3y-W9",
        "colab_type": "code",
        "colab": {}
      },
      "source": [
        "recommends = recommendList_byShareCnt.map(sortRecommendsByCnt) #sap xep lai list recommend"
      ],
      "execution_count": 0,
      "outputs": []
    },
    {
      "cell_type": "code",
      "metadata": {
        "id": "HOm2VSlny-8v",
        "colab_type": "code",
        "colab": {}
      },
      "source": [
        "recommendList = recommends.map(recList)"
      ],
      "execution_count": 0,
      "outputs": []
    },
    {
      "cell_type": "code",
      "metadata": {
        "id": "SB8vuipgy-_C",
        "colab_type": "code",
        "colab": {}
      },
      "source": [
        "recommendMap = recommendList.collectAsMap()"
      ],
      "execution_count": 0,
      "outputs": []
    },
    {
      "cell_type": "code",
      "metadata": {
        "id": "v1rwntIpzHTD",
        "colab_type": "code",
        "outputId": "bf5d5e5a-a919-429a-a51b-b9042adbd6b1",
        "colab": {
          "base_uri": "https://localhost:8080/",
          "height": 190
        }
      },
      "source": [
        "List = [924, 8941, 8942, 9019, 9020, 9021, 9022, 9990, 9992, 9993]\n",
        "for i in List:\n",
        "  print str(i) + \"\\t\" + str(recommendMap[i])"
      ],
      "execution_count": 106,
      "outputs": [
        {
          "output_type": "stream",
          "text": [
            "924\t[439, 2409, 6995, 11860, 15416, 43748, 45881]\n",
            "8941\t[8943, 8944, 8940]\n",
            "8942\t[8939, 8940, 8943, 8944]\n",
            "9019\t[9022, 317, 9023]\n",
            "9020\t[9021, 9016, 9017, 9022, 317, 9023]\n",
            "9021\t[9020, 9016, 9017, 9022, 317, 9023]\n",
            "9022\t[9019, 9020, 9021, 317, 9016, 9017, 9023]\n",
            "9990\t[13134, 13478, 13877, 34299, 34485, 34642, 37941]\n",
            "9992\t[9987, 9989, 35667, 9991]\n",
            "9993\t[9991, 13134, 13478, 13877, 34299, 34485, 34642, 37941]\n"
          ],
          "name": "stdout"
        }
      ]
    },
    {
      "cell_type": "code",
      "metadata": {
        "id": "bUz4P6KWy8eG",
        "colab_type": "code",
        "colab": {}
      },
      "source": [
        ""
      ],
      "execution_count": 0,
      "outputs": []
    },
    {
      "cell_type": "code",
      "metadata": {
        "id": "7jDCs412ZZcF",
        "colab_type": "code",
        "colab": {}
      },
      "source": [
        "# HERE"
      ],
      "execution_count": 0,
      "outputs": []
    },
    {
      "cell_type": "markdown",
      "metadata": {
        "id": "SIrXJyVNP2AI",
        "colab_type": "text"
      },
      "source": [
        "Once you obtained the desired results, **head over to Gradescope and submit your solution for this Colab**!"
      ]
    }
  ]
}